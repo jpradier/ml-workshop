{
 "cells": [
  {
   "cell_type": "code",
   "execution_count": 1,
   "id": "average-mouth",
   "metadata": {
    "id": "96e832c4-7168-4fd8-ab82-fb9e03a5c752",
    "tags": []
   },
   "outputs": [
    {
     "name": "stdout",
     "output_type": "stream",
     "text": [
      "Hello World\n"
     ]
    }
   ],
   "source": [
    "print('Hello Worldfrank')"
   ]
  },
  {
   "cell_type": "code",
   "execution_count": null,
   "id": "noticed-julian",
   "metadata": {
    "id": "c30cfb65-c80e-445f-8a9e-e100b8f6caa1"
   },
   "outputs": [],
   "source": [
    "print('Hello sceond statement')"
   ]
  }
 ],
 "metadata": {
  "kernelspec": {
   "display_name": "Python 3.9",
   "language": "python",
   "name": "python3"
  },
  "language_info": {
   "codemirror_mode": {
    "name": "ipython",
    "version": 3
   },
   "file_extension": ".py",
   "mimetype": "text/x-python",
   "name": "python",
   "nbconvert_exporter": "python",
   "pygments_lexer": "ipython3",
   "version": "3.9.7"
  }
 },
 "nbformat": 4,
 "nbformat_minor": 5
}
